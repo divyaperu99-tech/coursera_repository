{
 "cells": [
  {
   "cell_type": "code",
   "execution_count": 15,
   "id": "d722cd36-4d46-417f-9ffb-496ddcea9ea8",
   "metadata": {},
   "outputs": [],
   "source": [
    "# Title of the Notebook"
   ]
  },
  {
   "cell_type": "markdown",
   "id": "4daf75d5-09fb-4c2f-9e6a-dd0e3f6cbe8a",
   "metadata": {},
   "source": [
    "## Introduction\n",
    "\n",
    "Welcome to this notebook! In this notebook, we will explore the basics of data analysis using Python.  \n",
    "We will cover data loading, cleaning, visualization, and some simple statistical analysis.\n",
    "\n",
    "Let's get started!"
   ]
  },
  {
   "cell_type": "markdown",
   "id": "92d6cbea-4d8f-45f6-9c26-50fe1de6ff6f",
   "metadata": {},
   "source": [
    "## Data Science Languages\n",
    "\n",
    "- Python\n",
    "- R\n",
    "- Julia\n",
    "- SQL\n",
    "- Scala\n",
    "- MATLAB\n"
   ]
  },
  {
   "cell_type": "markdown",
   "id": "6f911fe8-8e48-4dc0-9796-3f31deadb921",
   "metadata": {},
   "source": [
    "## Data Science Libraries\n",
    "\n",
    "- NumPy\n",
    "- Pandas\n",
    "- Matplotlib\n",
    "- Seaborn\n",
    "- Scikit-learn\n",
    "- TensorFlow\n",
    "- Keras\n",
    "- PyTorch\n"
   ]
  },
  {
   "cell_type": "markdown",
   "id": "2fe6ce05-c7fa-4759-88a1-919562243d6b",
   "metadata": {},
   "source": [
    "## Data Science Tools\n",
    "\n",
    "| Tool         | Description                     | Use Case                   |\n",
    "|--------------|---------------------------------|----------------------------|\n",
    "| Jupyter      | Interactive notebooks           | Data analysis and visualization |\n",
    "| RStudio      | IDE for R language              | Statistical computing      |\n",
    "| Tableau      | Data visualization platform     | Business intelligence      |\n",
    "| Apache Spark | Big data processing framework   | Large-scale data processing|\n",
    "| Git          | Version control system          | Code management            |\n"
   ]
  },
  {
   "cell_type": "markdown",
   "id": "dd8fbc14-c6be-4972-b407-3d8128ce386f",
   "metadata": {},
   "source": [
    "## Arithmetic Expression Examples\n",
    "\n",
    "In this section, we will explore basic arithmetic operations such as addition, subtraction, multiplication, and division using simple expressions.  \n",
    "These examples will help you understand how to perform calculations in Python.\n"
   ]
  },
  {
   "cell_type": "markdown",
   "id": "49b6f3f1-641f-446c-8db5-12ce40cc4970",
   "metadata": {},
   "source": [
    "# Addition\n",
    "print(\"Addition: 5 + 3 =\", 5 + 3)"
   ]
  },
  {
   "cell_type": "markdown",
   "id": "90152332-a72c-44f0-a224-1114c03e12e5",
   "metadata": {},
   "source": [
    "# Subtraction\n",
    "print(\"Subtraction: 10 - 4 =\", 10 - 4)"
   ]
  },
  {
   "cell_type": "code",
   "execution_count": 17,
   "id": "40f332ae-f932-4046-9bbd-502b8c3fe886",
   "metadata": {},
   "outputs": [
    {
     "name": "stdout",
     "output_type": "stream",
     "text": [
      "Result of (4 * 5) + 3 = 23\n"
     ]
    }
   ],
   "source": [
    "result = (4 * 5) + 3\n",
    "print(\"Result of (4 * 5) + 3 =\", result)"
   ]
  },
  {
   "cell_type": "code",
   "execution_count": 18,
   "id": "741f59f3-1f0f-43f0-98df-97401eacd509",
   "metadata": {},
   "outputs": [
    {
     "name": "stdout",
     "output_type": "stream",
     "text": [
      "135 minutes is equal to 2.25 hours.\n"
     ]
    }
   ],
   "source": [
    "# Convert minutes to hours\n",
    "minutes = 135\n",
    "hours = minutes / 60\n",
    "print(f\"{minutes} minutes is equal to {hours} hours.\")"
   ]
  },
  {
   "cell_type": "markdown",
   "id": "cae65348-e76c-4b67-b540-2d9b8c8a281b",
   "metadata": {},
   "source": [
    "## Objectives\n",
    "\n",
    "- Understand the basics of arithmetic operations in Python  \n",
    "- Learn how to perform addition, subtraction, multiplication, and division  \n",
    "- Practice converting units (e.g., minutes to hours)  \n",
    "- Get familiar with using Markdown cells for documentation  "
   ]
  },
  {
   "cell_type": "markdown",
   "id": "7f7805da-8f44-49de-a3cb-883cc5ef5618",
   "metadata": {},
   "source": [
    "## Author\n",
    "\n",
    "**A.P.J.ABDUL KALAM**\n"
   ]
  }
 ],
 "metadata": {
  "kernelspec": {
   "display_name": "Python 3 (ipykernel)",
   "language": "python",
   "name": "python3"
  },
  "language_info": {
   "codemirror_mode": {
    "name": "ipython",
    "version": 3
   },
   "file_extension": ".py",
   "mimetype": "text/x-python",
   "name": "python",
   "nbconvert_exporter": "python",
   "pygments_lexer": "ipython3",
   "version": "3.13.5"
  }
 },
 "nbformat": 4,
 "nbformat_minor": 5
}
